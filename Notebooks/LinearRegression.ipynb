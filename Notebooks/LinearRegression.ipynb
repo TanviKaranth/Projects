{
 "cells": [
  {
   "cell_type": "markdown",
   "metadata": {},
   "source": [
    "# Importing Libraries"
   ]
  },
  {
   "cell_type": "code",
   "execution_count": 6,
   "metadata": {},
   "outputs": [],
   "source": [
    "import numpy as np\n",
    "import pandas as pd\n",
    "import matplotlib.pyplot as plt\n",
    "from sklearn.metrics import r2_score\n",
    "from sklearn.linear_model import LinearRegression\n",
    "from sklearn.model_selection import train_test_split"
   ]
  },
  {
   "cell_type": "markdown",
   "metadata": {},
   "source": [
    "# Loading the dataset using pandas"
   ]
  },
  {
   "cell_type": "code",
   "execution_count": 7,
   "metadata": {},
   "outputs": [],
   "source": [
    "dataset = pd.read_csv('insurance.csv')"
   ]
  },
  {
   "cell_type": "markdown",
   "metadata": {},
   "source": [
    "# Data preprocessing (Data cleaning)"
   ]
  },
  {
   "cell_type": "code",
   "execution_count": 8,
   "metadata": {},
   "outputs": [
    {
     "name": "stdout",
     "output_type": "stream",
     "text": [
      "   age  sex     bmi  children  smoker  region      charges\n",
      "0   19    0  27.900         0       0       0  16884.92400\n",
      "1   18    1  33.770         1       1       1   1725.55230\n",
      "2   28    1  33.000         3       1       1   4449.46200\n",
      "3   33    1  22.705         0       1       2  21984.47061\n",
      "4   32    1  28.880         0       1       2   3866.85520\n",
      "5   31    0  25.740         0       1       1   3756.62160\n",
      "6   46    0  33.440         1       1       1   8240.58960\n",
      "7   37    0  27.740         3       1       2   7281.50560\n",
      "8   37    1  29.830         2       1       4   6406.41070\n",
      "9   60    0  25.840         0       1       2  28923.13692\n"
     ]
    }
   ],
   "source": [
    "df_dataset = pd.DataFrame()\n",
    "n_sex={'female':0,'male':1}\n",
    "n_smoker={'yes':0,'no':1}\n",
    "n_region={'southwest':0,'southeast':1,'northwest':2,'northeast':4}\n",
    "\n",
    "def clean_sex(x):\n",
    "    return n_sex[x]\n",
    "def clean_region(x):\n",
    "    return n_region[x]\n",
    "def clean_smoker(x):\n",
    "    return n_smoker[x]\n",
    "df_dataset['age']=dataset['age']\n",
    "df_dataset['sex']=dataset['sex'].apply(clean_sex)\n",
    "df_dataset['bmi']=dataset['bmi']\n",
    "df_dataset['children']=dataset['children']\n",
    "df_dataset['smoker']=dataset['smoker'].apply(clean_smoker)\n",
    "df_dataset['region']=dataset['region'].apply(clean_region)\n",
    "df_dataset['charges']=dataset['charges']\n",
    "print(df_dataset.head(10))"
   ]
  },
  {
   "cell_type": "markdown",
   "metadata": {},
   "source": [
    "# Creating feature matrix 'X' and target vector 'Y'"
   ]
  },
  {
   "cell_type": "code",
   "execution_count": 9,
   "metadata": {},
   "outputs": [],
   "source": [
    "feature_names = ['age','sex','bmi','children','smoker','region']\n",
    "X = df_dataset[feature_names]\n",
    "Y = df_dataset.charges"
   ]
  },
  {
   "cell_type": "markdown",
   "metadata": {},
   "source": [
    "# Splitting the data into train and test using sklearn (80:20)"
   ]
  },
  {
   "cell_type": "code",
   "execution_count": 10,
   "metadata": {},
   "outputs": [],
   "source": [
    "from sklearn.model_selection import train_test_split\n",
    "X_train,X_test,Y_train,Y_test=train_test_split(X,Y,test_size=0.2,random_state=0)"
   ]
  },
  {
   "cell_type": "markdown",
   "metadata": {},
   "source": [
    "# Fitting the model using Linear Regression from sklearn"
   ]
  },
  {
   "cell_type": "code",
   "execution_count": 11,
   "metadata": {},
   "outputs": [
    {
     "data": {
      "text/plain": [
       "LinearRegression()"
      ]
     },
     "execution_count": 11,
     "metadata": {},
     "output_type": "execute_result"
    }
   ],
   "source": [
    "from sklearn.linear_model import LinearRegression\n",
    "model=LinearRegression()\n",
    "model.fit(X_train,Y_train)"
   ]
  },
  {
   "cell_type": "code",
   "execution_count": 12,
   "metadata": {},
   "outputs": [
    {
     "name": "stdout",
     "output_type": "stream",
     "text": [
      "Training score :  0.7368411688414538 \n",
      "Training error :  0.2631588311585462\n"
     ]
    }
   ],
   "source": [
    "train_score=model.score(X_train,Y_train)\n",
    "train_error=1-train_score\n",
    "print(\"Training score : \",train_score,\"\\nTraining error : \",train_error)"
   ]
  },
  {
   "cell_type": "markdown",
   "metadata": {},
   "source": [
    "# Predict targets using test dataset"
   ]
  },
  {
   "cell_type": "code",
   "execution_count": 13,
   "metadata": {},
   "outputs": [],
   "source": [
    "pred=model.predict(X_test)"
   ]
  },
  {
   "cell_type": "markdown",
   "metadata": {},
   "source": [
    "# Comparing actual targets(X-axis) Vs predicted targets(Y-axis)"
   ]
  },
  {
   "cell_type": "code",
   "execution_count": 23,
   "metadata": {},
   "outputs": [
    {
     "data": {
      "image/png": "[encoded data removed]",
      "text/plain": [
       "<Figure size 432x288 with 1 Axes>"
      ]
     },
     "metadata": {
      "needs_background": "light"
     },
     "output_type": "display_data"
    }
   ],
   "source": [
    "plt.scatter(Y_test, pred,  color='red')\n",
    "plt.title('Linear Regression') \n",
    "plt.xlabel('actual charges') \n",
    "plt.ylabel('predicted charges') \n",
    "m, b = np.polyfit(Y_test, pred, 1)\n",
    "plt.plot(Y_test, m*Y_test+b,'k--', lw=2)\n",
    "plt.show()"
   ]
  },
  {
   "cell_type": "markdown",
   "metadata": {},
   "source": [
    "# Checking the testing error"
   ]
  },
  {
   "cell_type": "code",
   "execution_count": 15,
   "metadata": {},
   "outputs": [
    {
     "name": "stdout",
     "output_type": "stream",
     "text": [
      "R2 score for test dataset :  0.799895768383581\n",
      "Test error                :  0.200104231616419\n"
     ]
    }
   ],
   "source": [
    "from sklearn.metrics import r2_score\n",
    "test_set_r2 = r2_score(Y_test, pred)\n",
    "print('R2 score for test dataset : ',test_set_r2)\n",
    "print('Test error                : ',1-test_set_r2)"
   ]
  },
  {
   "cell_type": "markdown",
   "metadata": {},
   "source": [
    "# We see that the error is reasonable with a good R2 score. Hence, we can say that, Linear Regression algorithm can be a good choice to implement the model. "
   ]
  },
  {
   "cell_type": "code",
   "execution_count": null,
   "metadata": {},
   "outputs": [],
   "source": []
  }
 ],
 "metadata": {
  "kernelspec": {
   "display_name": "Python 3 (ipykernel)",
   "language": "python",
   "name": "python3"
  },
  "language_info": {
   "codemirror_mode": {
    "name": "ipython",
    "version": 3
   },
   "file_extension": ".py",
   "mimetype": "text/x-python",
   "name": "python",
   "nbconvert_exporter": "python",
   "pygments_lexer": "ipython3",
   "version": "3.9.12"
  }
 },
 "nbformat": 4,
 "nbformat_minor": 2
}
