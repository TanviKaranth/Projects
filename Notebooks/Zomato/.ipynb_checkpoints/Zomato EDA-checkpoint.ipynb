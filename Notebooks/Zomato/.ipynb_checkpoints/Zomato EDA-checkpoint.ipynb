{
 "cells": [
  {
   "cell_type": "markdown",
   "id": "96f63b69",
   "metadata": {},
   "source": [
    "# EDA On Zomato Dataset\n",
    "Zomato is an Indian multinational restaurant aggregator and food delivery company founded by Deepinder Goyal and Pankaj Chaddah in 2008.\n",
    "\n",
    "#### INTRODUCTION\n",
    "\n",
    "The dataset contains 1 CSV and 1 Excel file. This Exploratory Data Analysis Notebook will read and analyze the data using visual techniques to discover interesting facts about Zomato.  \n",
    "Pandas | Matplotlib | Seaborn "
   ]
  },
  {
   "cell_type": "markdown",
   "id": "eab124bb",
   "metadata": {},
   "source": [
    "### Import libraries"
   ]
  },
  {
   "cell_type": "code",
   "execution_count": 356,
   "id": "e7b35efb",
   "metadata": {},
   "outputs": [],
   "source": [
    "import pandas as pd \n",
    "import seaborn as sns \n",
    "import matplotlib.pyplot as plt\n",
    "from wordcloud import WordCloud, STOPWORDS\n",
    "import ipywidgets as widgets"
   ]
  },
  {
   "cell_type": "markdown",
   "id": "2c943848",
   "metadata": {},
   "source": [
    "### Read the CSV file"
   ]
  },
  {
   "cell_type": "code",
   "execution_count": 357,
   "id": "6b812c8d",
   "metadata": {},
   "outputs": [
    {
     "data": {
      "text/html": [
       "<div>\n",
       "<style scoped>\n",
       "    .dataframe tbody tr th:only-of-type {\n",
       "        vertical-align: middle;\n",
       "    }\n",
       "\n",
       "    .dataframe tbody tr th {\n",
       "        vertical-align: top;\n",
       "    }\n",
       "\n",
       "    .dataframe thead th {\n",
       "        text-align: right;\n",
       "    }\n",
       "</style>\n",
       "<table border=\"1\" class=\"dataframe\">\n",
       "  <thead>\n",
       "    <tr style=\"text-align: right;\">\n",
       "      <th></th>\n",
       "      <th>Restaurant ID</th>\n",
       "      <th>Restaurant Name</th>\n",
       "      <th>Country Code</th>\n",
       "      <th>City</th>\n",
       "      <th>Address</th>\n",
       "      <th>Locality</th>\n",
       "      <th>Locality Verbose</th>\n",
       "      <th>Longitude</th>\n",
       "      <th>Latitude</th>\n",
       "      <th>Cuisines</th>\n",
       "      <th>...</th>\n",
       "      <th>Currency</th>\n",
       "      <th>Has Table booking</th>\n",
       "      <th>Has Online delivery</th>\n",
       "      <th>Is delivering now</th>\n",
       "      <th>Switch to order menu</th>\n",
       "      <th>Price range</th>\n",
       "      <th>Aggregate rating</th>\n",
       "      <th>Rating color</th>\n",
       "      <th>Rating text</th>\n",
       "      <th>Votes</th>\n",
       "    </tr>\n",
       "  </thead>\n",
       "  <tbody>\n",
       "    <tr>\n",
       "      <th>0</th>\n",
       "      <td>6317637</td>\n",
       "      <td>Le Petit Souffle</td>\n",
       "      <td>162</td>\n",
       "      <td>Makati City</td>\n",
       "      <td>Third Floor, Century City Mall, Kalayaan Avenu...</td>\n",
       "      <td>Century City Mall, Poblacion, Makati City</td>\n",
       "      <td>Century City Mall, Poblacion, Makati City, Mak...</td>\n",
       "      <td>121.027535</td>\n",
       "      <td>14.565443</td>\n",
       "      <td>French, Japanese, Desserts</td>\n",
       "      <td>...</td>\n",
       "      <td>Botswana Pula(P)</td>\n",
       "      <td>Yes</td>\n",
       "      <td>No</td>\n",
       "      <td>No</td>\n",
       "      <td>No</td>\n",
       "      <td>3</td>\n",
       "      <td>4.8</td>\n",
       "      <td>Dark Green</td>\n",
       "      <td>Excellent</td>\n",
       "      <td>314</td>\n",
       "    </tr>\n",
       "    <tr>\n",
       "      <th>1</th>\n",
       "      <td>6304287</td>\n",
       "      <td>Izakaya Kikufuji</td>\n",
       "      <td>162</td>\n",
       "      <td>Makati City</td>\n",
       "      <td>Little Tokyo, 2277 Chino Roces Avenue, Legaspi...</td>\n",
       "      <td>Little Tokyo, Legaspi Village, Makati City</td>\n",
       "      <td>Little Tokyo, Legaspi Village, Makati City, Ma...</td>\n",
       "      <td>121.014101</td>\n",
       "      <td>14.553708</td>\n",
       "      <td>Japanese</td>\n",
       "      <td>...</td>\n",
       "      <td>Botswana Pula(P)</td>\n",
       "      <td>Yes</td>\n",
       "      <td>No</td>\n",
       "      <td>No</td>\n",
       "      <td>No</td>\n",
       "      <td>3</td>\n",
       "      <td>4.5</td>\n",
       "      <td>Dark Green</td>\n",
       "      <td>Excellent</td>\n",
       "      <td>591</td>\n",
       "    </tr>\n",
       "    <tr>\n",
       "      <th>2</th>\n",
       "      <td>6300002</td>\n",
       "      <td>Heat - Edsa Shangri-La</td>\n",
       "      <td>162</td>\n",
       "      <td>Mandaluyong City</td>\n",
       "      <td>Edsa Shangri-La, 1 Garden Way, Ortigas, Mandal...</td>\n",
       "      <td>Edsa Shangri-La, Ortigas, Mandaluyong City</td>\n",
       "      <td>Edsa Shangri-La, Ortigas, Mandaluyong City, Ma...</td>\n",
       "      <td>121.056831</td>\n",
       "      <td>14.581404</td>\n",
       "      <td>Seafood, Asian, Filipino, Indian</td>\n",
       "      <td>...</td>\n",
       "      <td>Botswana Pula(P)</td>\n",
       "      <td>Yes</td>\n",
       "      <td>No</td>\n",
       "      <td>No</td>\n",
       "      <td>No</td>\n",
       "      <td>4</td>\n",
       "      <td>4.4</td>\n",
       "      <td>Green</td>\n",
       "      <td>Very Good</td>\n",
       "      <td>270</td>\n",
       "    </tr>\n",
       "  </tbody>\n",
       "</table>\n",
       "<p>3 rows × 21 columns</p>\n",
       "</div>"
      ],
      "text/plain": [
       "   Restaurant ID         Restaurant Name  Country Code              City  \\\n",
       "0        6317637        Le Petit Souffle           162       Makati City   \n",
       "1        6304287        Izakaya Kikufuji           162       Makati City   \n",
       "2        6300002  Heat - Edsa Shangri-La           162  Mandaluyong City   \n",
       "\n",
       "                                             Address  \\\n",
       "0  Third Floor, Century City Mall, Kalayaan Avenu...   \n",
       "1  Little Tokyo, 2277 Chino Roces Avenue, Legaspi...   \n",
       "2  Edsa Shangri-La, 1 Garden Way, Ortigas, Mandal...   \n",
       "\n",
       "                                     Locality  \\\n",
       "0   Century City Mall, Poblacion, Makati City   \n",
       "1  Little Tokyo, Legaspi Village, Makati City   \n",
       "2  Edsa Shangri-La, Ortigas, Mandaluyong City   \n",
       "\n",
       "                                    Locality Verbose   Longitude   Latitude  \\\n",
       "0  Century City Mall, Poblacion, Makati City, Mak...  121.027535  14.565443   \n",
       "1  Little Tokyo, Legaspi Village, Makati City, Ma...  121.014101  14.553708   \n",
       "2  Edsa Shangri-La, Ortigas, Mandaluyong City, Ma...  121.056831  14.581404   \n",
       "\n",
       "                           Cuisines  ...          Currency Has Table booking  \\\n",
       "0        French, Japanese, Desserts  ...  Botswana Pula(P)               Yes   \n",
       "1                          Japanese  ...  Botswana Pula(P)               Yes   \n",
       "2  Seafood, Asian, Filipino, Indian  ...  Botswana Pula(P)               Yes   \n",
       "\n",
       "  Has Online delivery Is delivering now Switch to order menu Price range  \\\n",
       "0                  No                No                   No           3   \n",
       "1                  No                No                   No           3   \n",
       "2                  No                No                   No           4   \n",
       "\n",
       "   Aggregate rating  Rating color Rating text Votes  \n",
       "0               4.8    Dark Green   Excellent   314  \n",
       "1               4.5    Dark Green   Excellent   591  \n",
       "2               4.4         Green   Very Good   270  \n",
       "\n",
       "[3 rows x 21 columns]"
      ]
     },
     "execution_count": 357,
     "metadata": {},
     "output_type": "execute_result"
    }
   ],
   "source": [
    "df1=pd.read_csv(\"zomato.csv\",encoding=\"ISO-8859-1\")\n",
    "df1.head(3)"
   ]
  },
  {
   "cell_type": "markdown",
   "id": "b4f4ea32",
   "metadata": {},
   "source": [
    "### Read the Excel file"
   ]
  },
  {
   "cell_type": "code",
   "execution_count": 358,
   "id": "0557a78a",
   "metadata": {},
   "outputs": [
    {
     "data": {
      "text/html": [
       "<div>\n",
       "<style scoped>\n",
       "    .dataframe tbody tr th:only-of-type {\n",
       "        vertical-align: middle;\n",
       "    }\n",
       "\n",
       "    .dataframe tbody tr th {\n",
       "        vertical-align: top;\n",
       "    }\n",
       "\n",
       "    .dataframe thead th {\n",
       "        text-align: right;\n",
       "    }\n",
       "</style>\n",
       "<table border=\"1\" class=\"dataframe\">\n",
       "  <thead>\n",
       "    <tr style=\"text-align: right;\">\n",
       "      <th></th>\n",
       "      <th>Country Code</th>\n",
       "      <th>Country</th>\n",
       "    </tr>\n",
       "  </thead>\n",
       "  <tbody>\n",
       "    <tr>\n",
       "      <th>0</th>\n",
       "      <td>1</td>\n",
       "      <td>India</td>\n",
       "    </tr>\n",
       "    <tr>\n",
       "      <th>1</th>\n",
       "      <td>14</td>\n",
       "      <td>Australia</td>\n",
       "    </tr>\n",
       "    <tr>\n",
       "      <th>2</th>\n",
       "      <td>30</td>\n",
       "      <td>Brazil</td>\n",
       "    </tr>\n",
       "  </tbody>\n",
       "</table>\n",
       "</div>"
      ],
      "text/plain": [
       "   Country Code    Country\n",
       "0             1      India\n",
       "1            14  Australia\n",
       "2            30     Brazil"
      ]
     },
     "execution_count": 358,
     "metadata": {},
     "output_type": "execute_result"
    }
   ],
   "source": [
    "df2=pd.read_excel(\"Country-Code.xlsx\")\n",
    "df2.head(3)"
   ]
  },
  {
   "cell_type": "markdown",
   "id": "42853f40",
   "metadata": {},
   "source": [
    "### Join the 2 dataframes on Country Code"
   ]
  },
  {
   "cell_type": "code",
   "execution_count": 359,
   "id": "19a777ad",
   "metadata": {},
   "outputs": [],
   "source": [
    "df=pd.merge(df1,df2,on='Country Code',how='left')"
   ]
  },
  {
   "cell_type": "markdown",
   "id": "e379aeaa",
   "metadata": {},
   "source": [
    "### Shape \n",
    "- 9551 Rows\n",
    "- 22 Columns"
   ]
  },
  {
   "cell_type": "code",
   "execution_count": 360,
   "id": "9acaafca",
   "metadata": {},
   "outputs": [
    {
     "data": {
      "text/plain": [
       "(9551, 22)"
      ]
     },
     "execution_count": 360,
     "metadata": {},
     "output_type": "execute_result"
    }
   ],
   "source": [
    "df.shape"
   ]
  },
  {
   "cell_type": "markdown",
   "id": "7ea5efe7",
   "metadata": {},
   "source": [
    "### Columns in the DataFrame"
   ]
  },
  {
   "cell_type": "code",
   "execution_count": 361,
   "id": "be7a95ff",
   "metadata": {
    "scrolled": true
   },
   "outputs": [
    {
     "data": {
      "text/plain": [
       "Index(['Restaurant ID', 'Restaurant Name', 'Country Code', 'City', 'Address',\n",
       "       'Locality', 'Locality Verbose', 'Longitude', 'Latitude', 'Cuisines',\n",
       "       'Average Cost for two', 'Currency', 'Has Table booking',\n",
       "       'Has Online delivery', 'Is delivering now', 'Switch to order menu',\n",
       "       'Price range', 'Aggregate rating', 'Rating color', 'Rating text',\n",
       "       'Votes', 'Country'],\n",
       "      dtype='object')"
      ]
     },
     "execution_count": 361,
     "metadata": {},
     "output_type": "execute_result"
    }
   ],
   "source": [
    "df.columns"
   ]
  },
  {
   "cell_type": "markdown",
   "id": "60c37c5c",
   "metadata": {},
   "source": [
    "### Count and Type of each columns"
   ]
  },
  {
   "cell_type": "code",
   "execution_count": 362,
   "id": "e30d4c5b",
   "metadata": {
    "scrolled": false
   },
   "outputs": [
    {
     "name": "stdout",
     "output_type": "stream",
     "text": [
      "<class 'pandas.core.frame.DataFrame'>\n",
      "Int64Index: 9551 entries, 0 to 9550\n",
      "Data columns (total 22 columns):\n",
      " #   Column                Non-Null Count  Dtype  \n",
      "---  ------                --------------  -----  \n",
      " 0   Restaurant ID         9551 non-null   int64  \n",
      " 1   Restaurant Name       9551 non-null   object \n",
      " 2   Country Code          9551 non-null   int64  \n",
      " 3   City                  9551 non-null   object \n",
      " 4   Address               9551 non-null   object \n",
      " 5   Locality              9551 non-null   object \n",
      " 6   Locality Verbose      9551 non-null   object \n",
      " 7   Longitude             9551 non-null   float64\n",
      " 8   Latitude              9551 non-null   float64\n",
      " 9   Cuisines              9542 non-null   object \n",
      " 10  Average Cost for two  9551 non-null   int64  \n",
      " 11  Currency              9551 non-null   object \n",
      " 12  Has Table booking     9551 non-null   object \n",
      " 13  Has Online delivery   9551 non-null   object \n",
      " 14  Is delivering now     9551 non-null   object \n",
      " 15  Switch to order menu  9551 non-null   object \n",
      " 16  Price range           9551 non-null   int64  \n",
      " 17  Aggregate rating      9551 non-null   float64\n",
      " 18  Rating color          9551 non-null   object \n",
      " 19  Rating text           9551 non-null   object \n",
      " 20  Votes                 9551 non-null   int64  \n",
      " 21  Country               9551 non-null   object \n",
      "dtypes: float64(3), int64(5), object(14)\n",
      "memory usage: 1.7+ MB\n"
     ]
    }
   ],
   "source": [
    "df.info()"
   ]
  },
  {
   "cell_type": "markdown",
   "id": "895b226a",
   "metadata": {},
   "source": [
    "### Check for nulls\n",
    "- **Cuisines** has 9 null entries"
   ]
  },
  {
   "cell_type": "code",
   "execution_count": 367,
   "id": "61b4d045",
   "metadata": {
    "scrolled": false
   },
   "outputs": [
    {
     "data": {
      "text/plain": [
       "Restaurant ID           0\n",
       "Restaurant Name         0\n",
       "Country Code            0\n",
       "City                    0\n",
       "Address                 0\n",
       "Locality                0\n",
       "Locality Verbose        0\n",
       "Longitude               0\n",
       "Latitude                0\n",
       "Cuisines                9\n",
       "Average Cost for two    0\n",
       "Currency                0\n",
       "Has Table booking       0\n",
       "Has Online delivery     0\n",
       "Is delivering now       0\n",
       "Switch to order menu    0\n",
       "Price range             0\n",
       "Aggregate rating        0\n",
       "Rating color            0\n",
       "Rating text             0\n",
       "Votes                   0\n",
       "Country                 0\n",
       "dtype: int64"
      ]
     },
     "execution_count": 367,
     "metadata": {},
     "output_type": "execute_result"
    }
   ],
   "source": [
    "df.isnull().sum()"
   ]
  },
  {
   "cell_type": "code",
   "execution_count": 368,
   "id": "1befb3d2",
   "metadata": {},
   "outputs": [],
   "source": [
    "#df.dropna()"
   ]
  },
  {
   "cell_type": "markdown",
   "id": "732dec26",
   "metadata": {},
   "source": [
    "### Top 3 Countries with the most number of Restaurants "
   ]
  },
  {
   "cell_type": "code",
   "execution_count": 374,
   "id": "4e44da19",
   "metadata": {
    "scrolled": false
   },
   "outputs": [
    {
     "data": {
      "image/png": "[encoded data removed]",
      "text/plain": [
       "<Figure size 720x360 with 1 Axes>"
      ]
     },
     "metadata": {
      "needs_background": "light"
     },
     "output_type": "display_data"
    }
   ],
   "source": [
    "data = df.groupby('Country')['Restaurant ID'].count().reset_index()\n",
    "data.sort_values('Restaurant ID',ascending = False, inplace = True)\n",
    "\n",
    "plt.figure(figsize = (10,5))\n",
    "plt.title('Number of Restaurants in each Country')\n",
    "sns.set_palette(\"pastel\")\n",
    "s = sns.barplot(y = 'Country', x='Restaurant ID', data=data[:3], orient = 'h')\n",
    "s.set_xlabel(\"Count of Restaurants\")\n",
    "s.set_ylabel(\"Country\")\n",
    "s.bar_label(s.containers[0])\n",
    "plt.show()"
   ]
  },
  {
   "cell_type": "markdown",
   "id": "b3fa0872",
   "metadata": {},
   "source": [
    "### Top 3 Countries with the least number of Restaurants "
   ]
  },
  {
   "cell_type": "code",
   "execution_count": 375,
   "id": "8f6e91d6",
   "metadata": {},
   "outputs": [
    {
     "data": {
      "image/png": "[encoded data removed]",
      "text/plain": [
       "<Figure size 720x360 with 1 Axes>"
      ]
     },
     "metadata": {
      "needs_background": "light"
     },
     "output_type": "display_data"
    }
   ],
   "source": [
    "data = df.groupby('Country')['Restaurant ID'].count().reset_index()\n",
    "data.sort_values('Restaurant ID',ascending = False, inplace = True)\n",
    "\n",
    "plt.figure(figsize = (10,5))\n",
    "plt.title('Number of Restaurants in each Country')\n",
    "sns.set_palette(\"pastel\")\n",
    "s = sns.barplot(y = 'Country', x='Restaurant ID', data=data[-3:], orient = 'h')\n",
    "s.set_xlabel(\"Count of Restaurants\")\n",
    "s.set_ylabel(\"Country\")\n",
    "s.bar_label(s.containers[0])\n",
    "plt.show(s)"
   ]
  },
  {
   "cell_type": "markdown",
   "id": "970057cc",
   "metadata": {},
   "source": [
    "### Textual data cleaning to display a word cloud of cuisines"
   ]
  },
  {
   "cell_type": "code",
   "execution_count": 460,
   "id": "d927cc9f",
   "metadata": {},
   "outputs": [
    {
     "data": {
      "text/html": [
       "<div>\n",
       "<style scoped>\n",
       "    .dataframe tbody tr th:only-of-type {\n",
       "        vertical-align: middle;\n",
       "    }\n",
       "\n",
       "    .dataframe tbody tr th {\n",
       "        vertical-align: top;\n",
       "    }\n",
       "\n",
       "    .dataframe thead th {\n",
       "        text-align: right;\n",
       "    }\n",
       "</style>\n",
       "<table border=\"1\" class=\"dataframe\">\n",
       "  <thead>\n",
       "    <tr style=\"text-align: right;\">\n",
       "      <th></th>\n",
       "      <th>Cuisines</th>\n",
       "    </tr>\n",
       "    <tr>\n",
       "      <th>Country</th>\n",
       "      <th></th>\n",
       "    </tr>\n",
       "  </thead>\n",
       "  <tbody>\n",
       "    <tr>\n",
       "      <th>Australia</th>\n",
       "      <td>Bar Food, Steak,Modern Australian,Pizza, Bar F...</td>\n",
       "    </tr>\n",
       "    <tr>\n",
       "      <th>Brazil</th>\n",
       "      <td>Fast Food, French,Cafe,Bakery,Brazilian,Pizza,...</td>\n",
       "    </tr>\n",
       "    <tr>\n",
       "      <th>Canada</th>\n",
       "      <td>Japanese, Sushi,Chinese, Canadian,Italian, Med...</td>\n",
       "    </tr>\n",
       "  </tbody>\n",
       "</table>\n",
       "</div>"
      ],
      "text/plain": [
       "                                                    Cuisines\n",
       "Country                                                     \n",
       "Australia  Bar Food, Steak,Modern Australian,Pizza, Bar F...\n",
       "Brazil     Fast Food, French,Cafe,Bakery,Brazilian,Pizza,...\n",
       "Canada     Japanese, Sushi,Chinese, Canadian,Italian, Med..."
      ]
     },
     "execution_count": 460,
     "metadata": {},
     "output_type": "execute_result"
    }
   ],
   "source": [
    "data = df\n",
    "\n",
    "# Change the datatype of Cuisines to String\n",
    "data['Cuisines'] = data['Cuisines'].astype(str) \n",
    "\n",
    "# Group the dataFrame by countries and join the cuisines to get one big comma seperated string for each country\n",
    "data = df.groupby(['Country'])['Cuisines'].apply(lambda x: ','.join(x)).reset_index()\n",
    "data = data.set_index(['Country'])\n",
    "data.head(3)"
   ]
  },
  {
   "cell_type": "code",
   "execution_count": 472,
   "id": "e97a86b0",
   "metadata": {},
   "outputs": [
    {
     "data": {
      "text/html": [
       "<div>\n",
       "<style scoped>\n",
       "    .dataframe tbody tr th:only-of-type {\n",
       "        vertical-align: middle;\n",
       "    }\n",
       "\n",
       "    .dataframe tbody tr th {\n",
       "        vertical-align: top;\n",
       "    }\n",
       "\n",
       "    .dataframe thead th {\n",
       "        text-align: right;\n",
       "    }\n",
       "</style>\n",
       "<table border=\"1\" class=\"dataframe\">\n",
       "  <thead>\n",
       "    <tr style=\"text-align: right;\">\n",
       "      <th></th>\n",
       "      <th>Cuisines</th>\n",
       "    </tr>\n",
       "    <tr>\n",
       "      <th>Country</th>\n",
       "      <th></th>\n",
       "    </tr>\n",
       "  </thead>\n",
       "  <tbody>\n",
       "    <tr>\n",
       "      <th>Australia</th>\n",
       "      <td>Bar Food,Steak,Modern Australian,Pizza,Bar Foo...</td>\n",
       "    </tr>\n",
       "    <tr>\n",
       "      <th>Brazil</th>\n",
       "      <td>Fast Food,French,Cafe,Bakery,Brazilian,Pizza,J...</td>\n",
       "    </tr>\n",
       "    <tr>\n",
       "      <th>Canada</th>\n",
       "      <td>Japanese,Sushi,Chinese,Canadian,Italian,Medite...</td>\n",
       "    </tr>\n",
       "  </tbody>\n",
       "</table>\n",
       "</div>"
      ],
      "text/plain": [
       "                                                    Cuisines\n",
       "Country                                                     \n",
       "Australia  Bar Food,Steak,Modern Australian,Pizza,Bar Foo...\n",
       "Brazil     Fast Food,French,Cafe,Bakery,Brazilian,Pizza,J...\n",
       "Canada     Japanese,Sushi,Chinese,Canadian,Italian,Medite..."
      ]
     },
     "execution_count": 472,
     "metadata": {},
     "output_type": "execute_result"
    }
   ],
   "source": [
    "#Remove unwanted blank spaces\n",
    "for country in data.index:\n",
    "    l = ''\n",
    "    for word in data['Cuisines'][country].split(','):\n",
    "        l+= ','+word.strip()\n",
    "    data['Cuisines'][country] = l[1:]\n",
    "data.head(3)"
   ]
  },
  {
   "cell_type": "code",
   "execution_count": 473,
   "id": "360e32e6",
   "metadata": {},
   "outputs": [],
   "source": [
    "def show_wordcloud(data, title = None):\n",
    "    \n",
    "    # Define word cloud\n",
    "    wordcloud = WordCloud(\n",
    "        background_color='white',\n",
    "        stopwords = ['Food'],\n",
    "        max_words=200,\n",
    "        max_font_size=40, \n",
    "        scale=5,\n",
    "        random_state=1\n",
    "    ).generate(str(data))\n",
    "\n",
    "    fig = plt.figure(1, figsize=(15,15))\n",
    "    plt.axis('off')\n",
    "    plt.imshow(wordcloud)\n",
    "    plt.show()"
   ]
  },
  {
   "cell_type": "code",
   "execution_count": 474,
   "id": "4caef755",
   "metadata": {},
   "outputs": [],
   "source": [
    "def dropdown(Country):\n",
    "     show_wordcloud(data['Cuisines'][Country], Country)"
   ]
  },
  {
   "cell_type": "markdown",
   "id": "f85abb34",
   "metadata": {},
   "source": [
    "### Word Cloud of Cuisines based on various countries"
   ]
  },
  {
   "cell_type": "code",
   "execution_count": 475,
   "id": "c3f93dca",
   "metadata": {},
   "outputs": [
    {
     "data": {
      "application/vnd.jupyter.widget-view+json": {
       "model_id": "3c8ca10283ef4923a8fa9a21caa4fff0",
       "version_major": 2,
       "version_minor": 0
      },
      "text/plain": [
       "interactive(children=(Dropdown(description='Country', options=('Australia', 'Brazil', 'Canada', 'India', 'Indo…"
      ]
     },
     "metadata": {},
     "output_type": "display_data"
    },
    {
     "data": {
      "text/plain": [
       "<function __main__.dropdown(Country)>"
      ]
     },
     "execution_count": 475,
     "metadata": {},
     "output_type": "execute_result"
    }
   ],
   "source": [
    "widgets.interact(dropdown,Country =data.index)"
   ]
  },
  {
   "cell_type": "markdown",
   "id": "f3240a1c",
   "metadata": {},
   "source": [
    "### Scatter plot showing value for money (Cost v/s Rating)"
   ]
  },
  {
   "cell_type": "code",
   "execution_count": 482,
   "id": "1a269a9a",
   "metadata": {},
   "outputs": [
    {
     "data": {
      "image/png": "[encoded data removed]",
      "text/plain": [
       "<Figure size 1728x864 with 1 Axes>"
      ]
     },
     "metadata": {
      "needs_background": "light"
     },
     "output_type": "display_data"
    }
   ],
   "source": [
    "data = df.loc[(df['Average Cost for two']>0)&(df['Average Cost for two']<10000)]\n",
    "plt.figure(figsize = (24,12))\n",
    "sns.set_palette(\"bright\")\n",
    "s = sns.scatterplot(data=data, y=data[\"Average Cost for two\"], x=data[\"Aggregate rating\"])\n",
    "plt.show()"
   ]
  },
  {
   "cell_type": "markdown",
   "id": "1d5c2811",
   "metadata": {},
   "source": [
    "### Highest voted restaurants world wide"
   ]
  },
  {
   "cell_type": "code",
   "execution_count": 484,
   "id": "49764b01",
   "metadata": {},
   "outputs": [
    {
     "data": {
      "text/html": [
       "<div>\n",
       "<style scoped>\n",
       "    .dataframe tbody tr th:only-of-type {\n",
       "        vertical-align: middle;\n",
       "    }\n",
       "\n",
       "    .dataframe tbody tr th {\n",
       "        vertical-align: top;\n",
       "    }\n",
       "\n",
       "    .dataframe thead th {\n",
       "        text-align: right;\n",
       "    }\n",
       "</style>\n",
       "<table border=\"1\" class=\"dataframe\">\n",
       "  <thead>\n",
       "    <tr style=\"text-align: right;\">\n",
       "      <th></th>\n",
       "      <th>Votes</th>\n",
       "      <th>Restaurant Name</th>\n",
       "      <th>Country</th>\n",
       "      <th>City</th>\n",
       "    </tr>\n",
       "  </thead>\n",
       "  <tbody>\n",
       "    <tr>\n",
       "      <th>728</th>\n",
       "      <td>10934</td>\n",
       "      <td>Toit</td>\n",
       "      <td>India</td>\n",
       "      <td>Bangalore</td>\n",
       "    </tr>\n",
       "    <tr>\n",
       "      <th>735</th>\n",
       "      <td>9667</td>\n",
       "      <td>Truffles</td>\n",
       "      <td>India</td>\n",
       "      <td>Bangalore</td>\n",
       "    </tr>\n",
       "    <tr>\n",
       "      <th>3994</th>\n",
       "      <td>7931</td>\n",
       "      <td>Hauz Khas Social</td>\n",
       "      <td>India</td>\n",
       "      <td>New Delhi</td>\n",
       "    </tr>\n",
       "    <tr>\n",
       "      <th>2412</th>\n",
       "      <td>7574</td>\n",
       "      <td>Peter Cat</td>\n",
       "      <td>India</td>\n",
       "      <td>Kolkata</td>\n",
       "    </tr>\n",
       "    <tr>\n",
       "      <th>739</th>\n",
       "      <td>6907</td>\n",
       "      <td>AB's - Absolute Barbecues</td>\n",
       "      <td>India</td>\n",
       "      <td>Bangalore</td>\n",
       "    </tr>\n",
       "  </tbody>\n",
       "</table>\n",
       "</div>"
      ],
      "text/plain": [
       "      Votes            Restaurant Name Country       City\n",
       "728   10934                       Toit   India  Bangalore\n",
       "735    9667                   Truffles   India  Bangalore\n",
       "3994   7931           Hauz Khas Social   India  New Delhi\n",
       "2412   7574                  Peter Cat   India    Kolkata\n",
       "739    6907  AB's - Absolute Barbecues   India  Bangalore"
      ]
     },
     "execution_count": 484,
     "metadata": {},
     "output_type": "execute_result"
    }
   ],
   "source": [
    "top = df[[\"Votes\",\"Restaurant Name\",\"Country\",\"City\"]].sort_values(by=['Votes'], ascending=False).head(5)\n",
    "top"
   ]
  },
  {
   "cell_type": "code",
   "execution_count": 485,
   "id": "fc1c78e4",
   "metadata": {},
   "outputs": [
    {
     "data": {
      "image/png": "[encoded data removed]",
      "text/plain": [
       "<Figure size 720x360 with 1 Axes>"
      ]
     },
     "metadata": {
      "needs_background": "light"
     },
     "output_type": "display_data"
    }
   ],
   "source": [
    "plt.figure(figsize = (10,5))\n",
    "plt.title('Top voted restaurants world wide')\n",
    "sns.set_palette(\"pastel\")\n",
    "s = sns.barplot(x = 'Restaurant Name', y='Votes', data=top,ci=None)\n",
    "s.bar_label(s.containers[0])\n",
    "plt.show()"
   ]
  },
  {
   "cell_type": "code",
   "execution_count": 330,
   "id": "48952712",
   "metadata": {},
   "outputs": [],
   "source": [
    "def dropdown1(Country):\n",
    "    plt.figure(figsize = (15,5))\n",
    "    top = df[(df['Country']==Country)][[\"Votes\",\"Restaurant Name\",\"City\"]].sort_values(by=['Votes'], ascending=False).head(5)\n",
    "    s = sns.barplot(x = 'Restaurant Name', y='Votes', data=top,ci=None)\n",
    "    s.bar_label(s.containers[0])\n",
    "    return top"
   ]
  },
  {
   "cell_type": "code",
   "execution_count": 331,
   "id": "5f6eee8a",
   "metadata": {},
   "outputs": [
    {
     "data": {
      "application/vnd.jupyter.widget-view+json": {
       "model_id": "69c3dfae4fc14e118767a37cd2fbea83",
       "version_major": 2,
       "version_minor": 0
      },
      "text/plain": [
       "interactive(children=(Dropdown(description='Country', options=('Phillipines', 'Brazil', 'United States', 'Aust…"
      ]
     },
     "metadata": {},
     "output_type": "display_data"
    },
    {
     "data": {
      "text/plain": [
       "<function __main__.dropdown1(Country)>"
      ]
     },
     "execution_count": 331,
     "metadata": {},
     "output_type": "execute_result"
    }
   ],
   "source": [
    "widgets.interact(dropdown1,Country = df['Country'].unique())"
   ]
  },
  {
   "cell_type": "code",
   "execution_count": 332,
   "id": "7d48ac49",
   "metadata": {},
   "outputs": [
    {
     "data": {
      "image/png": "[encoded data removed]",
      "text/plain": [
       "<Figure size 432x288 with 1 Axes>"
      ]
     },
     "metadata": {
      "needs_background": "light"
     },
     "output_type": "display_data"
    }
   ],
   "source": [
    "rating = data.groupby('Rating text').size().reset_index().rename(columns={0:\"Rating_count\"})\n",
    "s = sns.barplot(x = 'Rating text', y='Rating_count', data=rating,ci=None)\n",
    "s.bar_label(s.containers[0])\n",
    "plt.show()"
   ]
  },
  {
   "cell_type": "code",
   "execution_count": 333,
   "id": "9b899e8a",
   "metadata": {},
   "outputs": [],
   "source": [
    "def showRatingPlot(Country):    \n",
    "    data = df[df['Country']==Country]\n",
    "    rating = data.groupby('Rating text').size().reset_index().rename(columns={0:\"Rating_count\"})\n",
    "    s = sns.barplot(x = 'Rating text', y='Rating_count', data=rating,ci=None)\n",
    "    s.bar_label(s.containers[0])\n",
    "    return rating"
   ]
  },
  {
   "cell_type": "code",
   "execution_count": 334,
   "id": "26e06ef2",
   "metadata": {},
   "outputs": [
    {
     "data": {
      "application/vnd.jupyter.widget-view+json": {
       "model_id": "70d77d1dec1c4465831d7a6aab60fd80",
       "version_major": 2,
       "version_minor": 0
      },
      "text/plain": [
       "interactive(children=(Dropdown(description='Country', options=('Phillipines', 'Brazil', 'United States', 'Aust…"
      ]
     },
     "metadata": {},
     "output_type": "display_data"
    },
    {
     "data": {
      "text/plain": [
       "<function __main__.showRatingPlot(Country)>"
      ]
     },
     "execution_count": 334,
     "metadata": {},
     "output_type": "execute_result"
    }
   ],
   "source": [
    "widgets.interact(showRatingPlot,Country = df['Country'].unique())"
   ]
  },
  {
   "cell_type": "code",
   "execution_count": 335,
   "id": "714c6059",
   "metadata": {},
   "outputs": [],
   "source": [
    "def Excellent(Country):\n",
    "    data = df[(df['Rating text']=='Excellent') & (df['Country']==Country)][['Restaurant Name','City','Votes']].sort_values(by='Votes',ascending=False)\n",
    "    return data.head(10)"
   ]
  },
  {
   "cell_type": "code",
   "execution_count": 336,
   "id": "dfad935a",
   "metadata": {},
   "outputs": [
    {
     "data": {
      "application/vnd.jupyter.widget-view+json": {
       "model_id": "ce839c291826497a916546ca50e7d1f5",
       "version_major": 2,
       "version_minor": 0
      },
      "text/plain": [
       "interactive(children=(Dropdown(description='Country', options=('Phillipines', 'Brazil', 'United States', 'Aust…"
      ]
     },
     "metadata": {},
     "output_type": "display_data"
    },
    {
     "data": {
      "text/plain": [
       "<function __main__.Excellent(Country)>"
      ]
     },
     "execution_count": 336,
     "metadata": {},
     "output_type": "execute_result"
    }
   ],
   "source": [
    "widgets.interact(Excellent,Country = df['Country'].unique())"
   ]
  },
  {
   "cell_type": "code",
   "execution_count": 337,
   "id": "232c852e",
   "metadata": {},
   "outputs": [],
   "source": [
    "def Poor(Country):\n",
    "    data = df[((df['Rating text']=='Average') | (df['Rating text']=='Poor')) & (df['Country']==Country)][['Restaurant Name','City','Votes']].sort_values(by='Votes',ascending=False)\n",
    "    return data.head(10)"
   ]
  },
  {
   "cell_type": "code",
   "execution_count": 338,
   "id": "543c6c46",
   "metadata": {},
   "outputs": [
    {
     "data": {
      "application/vnd.jupyter.widget-view+json": {
       "model_id": "de337226b4494036895b78345ea45207",
       "version_major": 2,
       "version_minor": 0
      },
      "text/plain": [
       "interactive(children=(Dropdown(description='Country', options=('Phillipines', 'Brazil', 'United States', 'Aust…"
      ]
     },
     "metadata": {},
     "output_type": "display_data"
    },
    {
     "data": {
      "text/plain": [
       "<function __main__.Poor(Country)>"
      ]
     },
     "execution_count": 338,
     "metadata": {},
     "output_type": "execute_result"
    }
   ],
   "source": [
    "widgets.interact(Poor,Country = df['Country'].unique())"
   ]
  },
  {
   "cell_type": "code",
   "execution_count": 339,
   "id": "2721577e",
   "metadata": {},
   "outputs": [
    {
     "data": {
      "image/png": "[encoded data removed]",
      "text/plain": [
       "<Figure size 1080x360 with 1 Axes>"
      ]
     },
     "metadata": {
      "needs_background": "light"
     },
     "output_type": "display_data"
    }
   ],
   "source": [
    "data = df\n",
    "plt.figure(figsize = (15,5))\n",
    "rating = data.groupby('Aggregate rating').size().reset_index().rename(columns={0:\"Rating_count\"})\n",
    "s = sns.barplot(x = 'Aggregate rating', y='Rating_count', data=rating,ci=None)\n",
    "s.bar_label(s.containers[0])\n",
    "plt.show()"
   ]
  },
  {
   "cell_type": "code",
   "execution_count": 340,
   "id": "53d887b3",
   "metadata": {},
   "outputs": [
    {
     "data": {
      "image/png": "[encoded data removed]",
      "text/plain": [
       "<Figure size 1080x360 with 1 Axes>"
      ]
     },
     "metadata": {
      "needs_background": "light"
     },
     "output_type": "display_data"
    }
   ],
   "source": [
    "data = df[(df['Rating text']=='Excellent') & (df['Country']=='India')][['Restaurant Name','City','Votes']].sort_values(by='Votes',ascending=False)\n",
    "data = data.groupby('City').size().reset_index().rename(columns={0:\"Count\"})\n",
    "data = data.sort_values(by='Count',ascending=False)\n",
    "plt.figure(figsize = (15,5))\n",
    "s = sns.barplot(x = 'City', y='Count', data=data[:5],ci=None)\n",
    "s.bar_label(s.containers[0])\n",
    "plt.show()"
   ]
  },
  {
   "cell_type": "code",
   "execution_count": 341,
   "id": "786fdc0a",
   "metadata": {},
   "outputs": [
    {
     "data": {
      "image/png": "[encoded data removed]",
      "text/plain": [
       "<Figure size 1080x360 with 1 Axes>"
      ]
     },
     "metadata": {
      "needs_background": "light"
     },
     "output_type": "display_data"
    }
   ],
   "source": [
    "data = df[(df['Rating text']=='Poor') & (df['Country']=='India')][['Restaurant Name','City','Votes']].sort_values(by='Votes',ascending=False)\n",
    "data = data.groupby('City').size().reset_index().rename(columns={0:\"Count\"})\n",
    "data = data.sort_values(by='Count',ascending=False)\n",
    "plt.figure(figsize = (15,5))\n",
    "s = sns.barplot(x = 'City', y='Count', data=data[:5],ci=None)\n",
    "s.bar_label(s.containers[0])\n",
    "plt.show()"
   ]
  },
  {
   "cell_type": "code",
   "execution_count": null,
   "id": "04f2ce44",
   "metadata": {},
   "outputs": [],
   "source": []
  },
  {
   "cell_type": "code",
   "execution_count": null,
   "id": "7da36e3f",
   "metadata": {},
   "outputs": [],
   "source": []
  },
  {
   "cell_type": "code",
   "execution_count": null,
   "id": "134ff29d",
   "metadata": {},
   "outputs": [],
   "source": []
  },
  {
   "cell_type": "code",
   "execution_count": null,
   "id": "12eba3ce",
   "metadata": {},
   "outputs": [],
   "source": []
  },
  {
   "cell_type": "code",
   "execution_count": null,
   "id": "de393362",
   "metadata": {},
   "outputs": [],
   "source": []
  }
 ],
 "metadata": {
  "kernelspec": {
   "display_name": "Python 3 (ipykernel)",
   "language": "python",
   "name": "python3"
  },
  "language_info": {
   "codemirror_mode": {
    "name": "ipython",
    "version": 3
   },
   "file_extension": ".py",
   "mimetype": "text/x-python",
   "name": "python",
   "nbconvert_exporter": "python",
   "pygments_lexer": "ipython3",
   "version": "3.9.12"
  }
 },
 "nbformat": 4,
 "nbformat_minor": 5
}
