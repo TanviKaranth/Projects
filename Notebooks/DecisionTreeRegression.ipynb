{
 "cells": [
  {
   "cell_type": "markdown",
   "metadata": {},
   "source": [
    "# Importing libraries"
   ]
  },
  {
   "cell_type": "code",
   "execution_count": 13,
   "metadata": {},
   "outputs": [],
   "source": [
    "import numpy as np\n",
    "import pandas as pd\n",
    "import matplotlib.pyplot as plt\n",
    "import seaborn as sns\n",
    "from sklearn.preprocessing import LabelEncoder\n",
    "from sklearn.preprocessing import StandardScaler"
   ]
  },
  {
   "cell_type": "markdown",
   "metadata": {},
   "source": [
    "# Loading the dataset"
   ]
  },
  {
   "cell_type": "code",
   "execution_count": 14,
   "metadata": {},
   "outputs": [],
   "source": [
    "dataset = pd.read_csv('insurance.csv')"
   ]
  },
  {
   "cell_type": "markdown",
   "metadata": {},
   "source": [
    "# Data preprocessing(data cleaning)"
   ]
  },
  {
   "cell_type": "code",
   "execution_count": 15,
   "metadata": {},
   "outputs": [
    {
     "name": "stdout",
     "output_type": "stream",
     "text": [
      "   age  sex     bmi  children  smoker  region      charges\n",
      "0   19    0  27.900         0       0       0  16884.92400\n",
      "1   18    1  33.770         1       1       1   1725.55230\n",
      "2   28    1  33.000         3       1       1   4449.46200\n",
      "3   33    1  22.705         0       1       2  21984.47061\n",
      "4   32    1  28.880         0       1       2   3866.85520\n",
      "5   31    0  25.740         0       1       1   3756.62160\n",
      "6   46    0  33.440         1       1       1   8240.58960\n",
      "7   37    0  27.740         3       1       2   7281.50560\n",
      "8   37    1  29.830         2       1       4   6406.41070\n",
      "9   60    0  25.840         0       1       2  28923.13692\n"
     ]
    }
   ],
   "source": [
    "df_dataset = pd.DataFrame()\n",
    "n_sex={'female':0,'male':1}\n",
    "n_smoker={'yes':0,'no':1}\n",
    "n_region={'southwest':0,'southeast':1,'northwest':2,'northeast':4}\n",
    "\n",
    "def clean_sex(x):\n",
    "    return n_sex[x]\n",
    "def clean_region(x):\n",
    "    return n_region[x]\n",
    "def clean_smoker(x):\n",
    "    return n_smoker[x]\n",
    "df_dataset['age']=dataset['age']\n",
    "df_dataset['sex']=dataset['sex'].apply(clean_sex)\n",
    "df_dataset['bmi']=dataset['bmi']\n",
    "df_dataset['children']=dataset['children']\n",
    "df_dataset['smoker']=dataset['smoker'].apply(clean_smoker)\n",
    "df_dataset['region']=dataset['region'].apply(clean_region)\n",
    "df_dataset['charges']=dataset['charges']\n",
    "print(df_dataset.head(10))"
   ]
  },
  {
   "cell_type": "code",
   "execution_count": 16,
   "metadata": {},
   "outputs": [
    {
     "name": "stdout",
     "output_type": "stream",
     "text": [
      "[[19.    0.   27.9   0.    0.    0.  ]\n",
      " [18.    1.   33.77  1.    1.    1.  ]\n",
      " [28.    1.   33.    3.    1.    1.  ]\n",
      " ...\n",
      " [18.    0.   36.85  0.    1.    1.  ]\n",
      " [21.    0.   25.8   0.    1.    0.  ]\n",
      " [61.    0.   29.07  0.    0.    2.  ]]\n",
      "[[16884.924 ]\n",
      " [ 1725.5523]\n",
      " [ 4449.462 ]\n",
      " ...\n",
      " [ 1629.8335]\n",
      " [ 2007.945 ]\n",
      " [29141.3603]]\n"
     ]
    }
   ],
   "source": [
    "Y = df_dataset.iloc[:,-1:].values\n",
    "df_dataset1 = df_dataset.copy()\n",
    "del df_dataset1['charges']\n",
    "\n",
    "X=df_dataset1.iloc[::].values\n",
    "print(X)\n",
    "print(Y)"
   ]
  },
  {
   "cell_type": "code",
   "execution_count": 17,
   "metadata": {},
   "outputs": [],
   "source": [
    "std_x = StandardScaler()\n",
    "std_y = StandardScaler()\n",
    "X = std_x.fit_transform(X)\n",
    "Y = std_y.fit_transform(Y)"
   ]
  },
  {
   "cell_type": "markdown",
   "metadata": {},
   "source": [
    "# Creating feature matrix 'X' and target vector 'Y'"
   ]
  },
  {
   "cell_type": "code",
   "execution_count": 18,
   "metadata": {},
   "outputs": [],
   "source": [
    "feature_names = ['age','sex','bmi','children','smoker','region']\n",
    "X = df_dataset[feature_names]\n",
    "Y = df_dataset.charges"
   ]
  },
  {
   "cell_type": "markdown",
   "metadata": {},
   "source": [
    "# Splitting the data into train and test using sklearn(80:20)"
   ]
  },
  {
   "cell_type": "code",
   "execution_count": 19,
   "metadata": {},
   "outputs": [],
   "source": [
    "from sklearn.model_selection import train_test_split\n",
    "X_train,X_test,Y_train,Y_test=train_test_split(X,Y,test_size=0.2,random_state=0)"
   ]
  },
  {
   "cell_type": "markdown",
   "metadata": {},
   "source": [
    "# Fitting the model using DecisionTree Regression from sklearn"
   ]
  },
  {
   "cell_type": "code",
   "execution_count": 28,
   "metadata": {
    "scrolled": true
   },
   "outputs": [
    {
     "data": {
      "text/plain": [
       "DecisionTreeRegressor(splitter='random')"
      ]
     },
     "execution_count": 28,
     "metadata": {},
     "output_type": "execute_result"
    }
   ],
   "source": [
    "from sklearn.tree import DecisionTreeClassifier \n",
    "from sklearn.tree import DecisionTreeRegressor\n",
    "regressor = DecisionTreeRegressor(splitter='random')\n",
    "regressor.fit(X_train, Y_train)"
   ]
  },
  {
   "cell_type": "markdown",
   "metadata": {},
   "source": [
    "# Checking the training error"
   ]
  },
  {
   "cell_type": "code",
   "execution_count": 29,
   "metadata": {},
   "outputs": [
    {
     "name": "stdout",
     "output_type": "stream",
     "text": [
      "Training score :  0.9982963931606104 \n",
      "Training error :  0.0017036068393896375\n"
     ]
    }
   ],
   "source": [
    "training_score= regressor.score(X_train, Y_train)\n",
    "train_error=1-training_score\n",
    "print(\"Training score : \",training_score,\"\\nTraining error : \",train_error)"
   ]
  },
  {
   "cell_type": "markdown",
   "metadata": {},
   "source": [
    "# Predict targets using test dataset"
   ]
  },
  {
   "cell_type": "code",
   "execution_count": 30,
   "metadata": {},
   "outputs": [],
   "source": [
    "from sklearn.metrics import mean_squared_error,r2_score\n",
    "Y_pred =regressor.predict(X_test)"
   ]
  },
  {
   "cell_type": "markdown",
   "metadata": {},
   "source": [
    "# Comparing actual targets (X-axis) Vs predicted targets(Y-aixs)"
   ]
  },
  {
   "cell_type": "code",
   "execution_count": 31,
   "metadata": {},
   "outputs": [
    {
     "data": {
      "image/png": "[encoded data removed]",
      "text/plain": [
       "<Figure size 432x288 with 1 Axes>"
      ]
     },
     "metadata": {
      "needs_background": "light"
     },
     "output_type": "display_data"
    }
   ],
   "source": [
    "  plt.scatter(Y_test, Y_pred, color = 'red') \n",
    "  plt.title('DecisionTree Regression') \n",
    "  plt.xlabel('actual charges') \n",
    "  plt.ylabel('predicted charges') \n",
    "  m, b = np.polyfit(Y_test, Y_pred, 1)\n",
    "  plt.plot(Y_test, m*Y_test+b,'k--', lw=2.5)\n",
    " \n",
    "  plt.show() "
   ]
  },
  {
   "cell_type": "markdown",
   "metadata": {},
   "source": [
    "# Checking testing error"
   ]
  },
  {
   "cell_type": "code",
   "execution_count": 32,
   "metadata": {},
   "outputs": [
    {
     "name": "stdout",
     "output_type": "stream",
     "text": [
      "R2 score for test dataset :  0.6716019966785556\n",
      "Test error                : 0.3283980033214444\n"
     ]
    }
   ],
   "source": [
    "from sklearn.metrics import r2_score\n",
    "r2_test = r2_score(Y_test, Y_pred)\n",
    "print(\"R2 score for test dataset : \",r2_test)\n",
    "print(\"Test error                :\",1-r2_test)"
   ]
  }
 ],
 "metadata": {
  "kernelspec": {
   "display_name": "Python 3 (ipykernel)",
   "language": "python",
   "name": "python3"
  },
  "language_info": {
   "codemirror_mode": {
    "name": "ipython",
    "version": 3
   },
   "file_extension": ".py",
   "mimetype": "text/x-python",
   "name": "python",
   "nbconvert_exporter": "python",
   "pygments_lexer": "ipython3",
   "version": "3.9.12"
  }
 },
 "nbformat": 4,
 "nbformat_minor": 2
}
